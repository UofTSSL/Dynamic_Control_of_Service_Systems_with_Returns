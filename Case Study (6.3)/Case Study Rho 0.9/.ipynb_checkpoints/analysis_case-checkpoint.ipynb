{
 "cells": [
  {
   "cell_type": "code",
   "execution_count": 1,
   "metadata": {},
   "outputs": [],
   "source": [
    "import os\n",
    "import pandas as pd\n",
    "import numpy as np\n",
    "import matplotlib.pyplot as plt\n",
    "from scipy.stats import t\n",
    "from itertools import product"
   ]
  },
  {
   "cell_type": "markdown",
   "metadata": {},
   "source": [
    "## Process data\n",
    "Import the CSVs storing each experiment's results, put it together into a DataFrame, and compute some metrics"
   ]
  },
  {
   "cell_type": "code",
   "execution_count": 2,
   "metadata": {},
   "outputs": [],
   "source": [
    "directory = 'outputs_case_0.9/'\n",
    "outdir = 'figs/'"
   ]
  },
  {
   "cell_type": "code",
   "execution_count": 3,
   "metadata": {},
   "outputs": [],
   "source": [
    "# Compute a 95% CI for the quantity Y/X\n",
    "\n",
    "def ratio_of_means(x, y, sample_size):\n",
    "    \n",
    "    tee = t.ppf(0.975, sample_size-1)\n",
    "\n",
    "    mean_x, mean_y = x.mean(axis=0), y.mean(axis=0)\n",
    "    s_x, s_y, s_xy = x.std(axis=0), y.std(axis=0), x.cov(y)\n",
    "    \n",
    "    c_xx, c_yy = s_x**2 / (mean_x**2 * sample_size), s_y**2 / (mean_y**2 * sample_size)\n",
    "    c_xy = s_xy / (mean_x * mean_y * sample_size)\n",
    "    \n",
    "    mid = 1-(tee**2)*c_xy\n",
    "    half = tee*np.sqrt(c_xx + c_yy - 2*c_xy - tee**2 * (c_xx*c_yy - c_xy**2))\n",
    "    scale = mean_y/(mean_x * (1-(tee**2)*c_xx))\n",
    "    \n",
    "    lower, upper = scale*(mid - half), scale*(mid+half)\n",
    "    raw = mean_y/mean_x\n",
    "\n",
    "    return [1 - raw, upper-raw, raw-lower]\n",
    "\n",
    "def diff_of_means(x, y, sample_size):\n",
    "    \n",
    "    tee = t.ppf(0.975, sample_size-1)\n",
    "\n",
    "    mean_x, mean_y = x.mean(axis=0), y.mean(axis=0)\n",
    "    s_x, s_y = x.std(axis=0), y.std(axis=0)\n",
    "    \n",
    "    mid = mean_x - mean_y\n",
    "    half = tee*np.sqrt(s_x**2/sample_size + s_y**2/sample_size)\n",
    "    \n",
    "    return [mid, half, half]"
   ]
  },
  {
   "cell_type": "markdown",
   "metadata": {},
   "source": [
    "Compute the relative cost difference of using the fluid policy w/r/t the equilibrium policy and the simple policy."
   ]
  },
  {
   "cell_type": "code",
   "execution_count": 4,
   "metadata": {},
   "outputs": [],
   "source": [
    "all_dfs = []\n",
    "\n",
    "times = []\n",
    "param_settings = []\n",
    "default_params = {\n",
    "    'lambda' : 9.8,\n",
    "    'nu' : 1/15,\n",
    "    'mu' : 1/4,\n",
    "    'h' : 0.2,\n",
    "    'r' : 1.0,\n",
    "    'C' : \"lambda p: 10*1.0*(0.2-p)\",\n",
    "    'x_0' : 100,\n",
    "    'y_0' : 100,\n",
    "    'fluctuation': 0,\n",
    "    'period': 1\n",
    "}\n",
    "with open(directory + \"sims.log\", \"r\") as logs:\n",
    "    for line in logs.readlines():\n",
    "        start = line.find(\"{\")\n",
    "        times.append(line[:start - 1])\n",
    "        params = default_params.copy()\n",
    "        params.update(eval(line[start:]))\n",
    "        param_settings.append(params)\n",
    "\n",
    "paths = sorted([file for file in os.listdir(directory) if file.endswith('.csv')])\n",
    "for file, params in zip(paths, param_settings):\n",
    "    df = pd.read_csv(directory + file, index_col=0)\n",
    "    for param, val in params.items():\n",
    "        df[param] = val\n",
    "    all_dfs.append(df)"
   ]
  },
  {
   "cell_type": "code",
   "execution_count": 5,
   "metadata": {},
   "outputs": [],
   "source": [
    "df = pd.concat(all_dfs).reset_index(drop=True)\n",
    "df = df[df.h <= 3000]"
   ]
  },
  {
   "cell_type": "code",
   "execution_count": 6,
   "metadata": {},
   "outputs": [],
   "source": [
    "df['init'] = [str(tup) for tup in zip(df['x_0'], df['y_0'])]\n",
    "df.init.mask(df.x_0 == 43, 'Long-run', inplace=True)\n",
    "df.drop(columns=['x_0', 'y_0'], inplace=True)"
   ]
  },
  {
   "cell_type": "code",
   "execution_count": 7,
   "metadata": {},
   "outputs": [],
   "source": [
    "df['C_r_cost'] = df['C_cost'] + df['r_cost']\n",
    "df['C_r_cost.1'] = df['C_cost.1'] + df['r_cost.1']\n",
    "df['C_r_cost.2'] = df['C_cost.2'] + df['r_cost.2']"
   ]
  },
  {
   "cell_type": "code",
   "execution_count": 8,
   "metadata": {},
   "outputs": [],
   "source": [
    "# df['M'] = df['C'].str[14:-11].astype(float) if typ == 'quad' else df['C'].str[13:-8].astype(float)\n",
    "# df.drop(columns=['C'], inplace=True)"
   ]
  },
  {
   "cell_type": "code",
   "execution_count": 9,
   "metadata": {},
   "outputs": [],
   "source": [
    "groupers = ['scale', 'init', 'lambda', 'nu', 'h', 'M', 'period', 'fluctuation']\n",
    "grouped = df.groupby(by=groupers)#, as_index=False)"
   ]
  },
  {
   "cell_type": "code",
   "execution_count": 10,
   "metadata": {},
   "outputs": [],
   "source": [
    "stat = 'total_cost'"
   ]
  },
  {
   "cell_type": "code",
   "execution_count": 11,
   "metadata": {},
   "outputs": [],
   "source": [
    "raw_eq_rel = 100*grouped.apply(lambda x: ratio_of_means(x[stat], x[stat + '.2'], len(x))[0])\n",
    "below_eq_rel = 100*grouped.apply(lambda x: ratio_of_means(x[stat], x[stat + '.2'], len(x))[1])\n",
    "above_eq_rel = 100*grouped.apply(lambda x: ratio_of_means(x[stat], x[stat + '.2'], len(x))[2])\n",
    "\n",
    "raw_simple_rel = 100*grouped.apply(lambda x: ratio_of_means(x[stat + '.1'], x[stat + '.2'], len(x))[0])\n",
    "below_simple_rel = 100*grouped.apply(lambda x: ratio_of_means(x[stat + '.1'], x[stat + '.2'], len(x))[1])\n",
    "above_simple_rel = 100*grouped.apply(lambda x: ratio_of_means(x[stat+ '.1'], x[stat + '.2'], len(x))[2])"
   ]
  },
  {
   "cell_type": "code",
   "execution_count": 12,
   "metadata": {},
   "outputs": [],
   "source": [
    "raw_eq = grouped.apply(lambda x: diff_of_means(x[stat], x[stat + '.2'], len(x))[0]) / grouped.run_length.mean()\n",
    "below_eq = grouped.apply(lambda x: diff_of_means(x[stat], x[stat + '.2'], len(x))[1]) / grouped.run_length.mean()\n",
    "above_eq = grouped.apply(lambda x: diff_of_means(x[stat], x[stat + '.2'], len(x))[2]) / grouped.run_length.mean()\n",
    "\n",
    "raw_simple = grouped.apply(lambda x: diff_of_means(x[stat + '.1'], x[stat + '.2'], len(x))[0]) / grouped.run_length.mean()\n",
    "below_simple = grouped.apply(lambda x: diff_of_means(x[stat + '.1'], x[stat + '.2'], len(x))[1]) / grouped.run_length.mean()\n",
    "above_simple = grouped.apply(lambda x: diff_of_means(x[stat + '.1'], x[stat + '.2'], len(x))[2]) / grouped.run_length.mean()"
   ]
  },
  {
   "cell_type": "code",
   "execution_count": 13,
   "metadata": {},
   "outputs": [],
   "source": [
    "q_eq = grouped['h_cost'].mean() / (grouped.run_length.mean() * grouped.h.mean())\n",
    "q_ci_eq = 1.96 * grouped['h_cost'].std() / (grouped.run_length.mean() * grouped.h.mean() * np.sqrt(grouped.size()))\n",
    "\n",
    "q_simple = grouped['h_cost.1'].mean() / (grouped.run_length.mean() * grouped.h.mean())\n",
    "q_ci_simple = 1.96 * grouped['h_cost.1'].std() / (grouped.run_length.mean() * grouped.h.mean() * np.sqrt(grouped.size()))\n",
    "\n",
    "q_opt = grouped['h_cost.2'].mean() / (grouped.run_length.mean() * grouped.h.mean())\n",
    "q_ci_opt = 1.96 * grouped['h_cost.2'].std() / (grouped.run_length.mean() * grouped.h.mean() * np.sqrt(grouped.size()))"
   ]
  },
  {
   "cell_type": "code",
   "execution_count": 14,
   "metadata": {},
   "outputs": [],
   "source": [
    "hcost_eq = grouped['h_cost'].mean() / grouped.run_length.mean()\n",
    "hcost_ci_eq = 1.96 * grouped['h_cost'].std() / (grouped.run_length.mean() * np.sqrt(grouped.size()))\n",
    "hcost_simple = grouped['h_cost.1'].mean() / grouped.run_length.mean()\n",
    "hcost_ci_simple = 1.96 * grouped['h_cost.1'].std() / (grouped.run_length.mean() * np.sqrt(grouped.size()))\n",
    "hcost_opt = grouped['h_cost.2'].mean() / grouped.run_length.mean()\n",
    "hcost_ci_opt = 1.96 * grouped['h_cost.2'].std() / (grouped.run_length.mean() * np.sqrt(grouped.size()))\n",
    "\n",
    "Ccost_eq = grouped['C_cost'].mean() / grouped.run_length.mean()\n",
    "Ccost_ci_eq = 1.96 * grouped['C_cost'].std() / (grouped.run_length.mean() * np.sqrt(grouped.size()))\n",
    "Ccost_simple = grouped['C_cost.1'].mean() / grouped.run_length.mean()\n",
    "Ccost_ci_simple = 1.96 * grouped['C_cost.1'].std() / (grouped.run_length.mean() * np.sqrt(grouped.size()))\n",
    "Ccost_opt = grouped['C_cost.2'].mean() / grouped.run_length.mean()\n",
    "Ccost_ci_opt = 1.96 * grouped['C_cost.2'].std() / (grouped.run_length.mean() * np.sqrt(grouped.size()))\n",
    "\n",
    "rcost_eq = grouped['r_cost'].mean() / grouped.run_length.mean()\n",
    "rcost_ci_eq = 1.96 * grouped['r_cost'].std() / (grouped.run_length.mean() * np.sqrt(grouped.size()))\n",
    "rcost_simple = grouped['r_cost.1'].mean() / grouped.run_length.mean()\n",
    "rcost_ci_simple = 1.96 * grouped['r_cost.1'].std() / (grouped.run_length.mean() * np.sqrt(grouped.size()))\n",
    "rcost_opt = grouped['r_cost.2'].mean() / grouped.run_length.mean()\n",
    "rcost_ci_opt = 1.96 * grouped['r_cost.2'].std() / (grouped.run_length.mean() * np.sqrt(grouped.size()))"
   ]
  },
  {
   "cell_type": "code",
   "execution_count": 15,
   "metadata": {},
   "outputs": [],
   "source": [
    "cr_eq = grouped['C_r_cost'].mean() / grouped.run_length.mean()\n",
    "cr_ci_eq = 1.96 * grouped['C_r_cost'].std() / (grouped.run_length.mean() * np.sqrt(grouped.size()))\n",
    "\n",
    "cr_simple = grouped['C_r_cost.1'].mean() / grouped.run_length.mean()\n",
    "cr_ci_simple = 1.96 * grouped['C_r_cost.1'].std() / (grouped.run_length.mean() * np.sqrt(grouped.size()))\n",
    "\n",
    "cr_opt = grouped['C_r_cost.2'].mean() / (grouped.run_length.mean())\n",
    "cr_ci_opt = 1.96 * grouped['C_r_cost.2'].std() / (grouped.run_length.mean() * np.sqrt(grouped.size()))"
   ]
  },
  {
   "cell_type": "code",
   "execution_count": 16,
   "metadata": {},
   "outputs": [],
   "source": [
    "p_eq = grouped['mean_p'].mean()\n",
    "p_ci_eq = 1.96 * grouped['mean_p'].std() / np.sqrt(grouped.size())\n",
    "p_simple = grouped['mean_p.1'].mean()\n",
    "p_ci_simple = 1.96 * grouped['mean_p.1'].std() / np.sqrt(grouped.size())\n",
    "p_opt = grouped['mean_p.2'].mean()\n",
    "p_ci_opt = 1.96 * grouped['mean_p.2'].std() / np.sqrt(grouped.size())"
   ]
  },
  {
   "cell_type": "code",
   "execution_count": 17,
   "metadata": {},
   "outputs": [],
   "source": [
    "cong_time_eq = grouped['mean_congested_time'].mean()\n",
    "cong_time_ci_eq = 1.96 * grouped['mean_congested_time'].std() / np.sqrt(grouped.size())\n",
    "cong_time_simple = grouped['mean_congested_time.1'].mean()\n",
    "cong_time_ci_simple = 1.96 * grouped['mean_congested_time.1'].std() / np.sqrt(grouped.size())\n",
    "cong_time_opt = grouped['mean_congested_time.2'].mean()\n",
    "cong_time_ci_opt = 1.96 * grouped['mean_congested_time.2'].std() / np.sqrt(grouped.size())"
   ]
  },
  {
   "cell_type": "code",
   "execution_count": 18,
   "metadata": {},
   "outputs": [],
   "source": [
    "p_time_eq = grouped['mean_p_time'].mean()\n",
    "p_time_ci_eq = 1.96 * grouped['mean_p_time'].std() / np.sqrt(grouped.size())\n",
    "p_time_simple = grouped['mean_p_time.1'].mean()\n",
    "p_time_ci_simple = 1.96 * grouped['mean_p_time.1'].std() / np.sqrt(grouped.size())\n",
    "p_time_opt = grouped['mean_p_time.2'].mean()\n",
    "p_time_ci_opt = 1.96 * grouped['mean_p_time.2'].std() / np.sqrt(grouped.size())"
   ]
  },
  {
   "cell_type": "code",
   "execution_count": 19,
   "metadata": {},
   "outputs": [],
   "source": [
    "opt_mean = grouped[stat + '.2'].mean() / grouped.run_length.mean()\n",
    "opt_ci = 1.96 * grouped[stat + '.2'].std() / np.sqrt(grouped.size()) / grouped.run_length.mean()\n",
    "eq_mean = grouped[stat].mean() / grouped.run_length.mean()\n",
    "eq_ci = 1.96 * grouped[stat].std() / np.sqrt(grouped.size()) / grouped.run_length.mean()\n",
    "simple_mean = grouped[stat + '.1'].mean() / grouped.run_length.mean()\n",
    "simple_ci = 1.96 * grouped[stat + '.1'].std() / np.sqrt(grouped.size()) / grouped.run_length.mean()"
   ]
  },
  {
   "cell_type": "code",
   "execution_count": 20,
   "metadata": {},
   "outputs": [],
   "source": [
    "new_df = pd.concat([raw_eq, below_eq, above_eq,\n",
    "                    raw_simple, below_simple, above_simple,\n",
    "                    raw_eq_rel, below_eq_rel, above_eq_rel,\n",
    "                    raw_simple_rel, below_simple_rel, above_simple_rel,#],\n",
    "                    q_eq, q_ci_eq, q_simple, q_ci_simple, q_opt, q_ci_opt,\n",
    "                    cr_eq, cr_ci_eq, cr_simple, cr_ci_simple, cr_opt, cr_ci_opt,\n",
    "                    hcost_eq, hcost_ci_eq, hcost_simple, hcost_ci_simple, hcost_opt, hcost_ci_opt,\n",
    "                    Ccost_eq, Ccost_ci_eq, Ccost_simple, Ccost_ci_simple, Ccost_opt, Ccost_ci_opt,\n",
    "                    rcost_eq, rcost_ci_eq, rcost_simple, rcost_ci_simple, rcost_opt, rcost_ci_opt,\n",
    "                    opt_mean, opt_ci, eq_mean, eq_ci, simple_mean, simple_ci,\n",
    "                    p_eq, p_ci_eq, p_simple, p_ci_simple, p_opt, p_ci_opt,\n",
    "                    p_time_eq, p_time_ci_eq, p_time_simple, p_time_ci_simple, p_time_opt, p_time_ci_opt,\n",
    "                    cong_time_eq, cong_time_ci_eq, cong_time_simple, cong_time_ci_simple, cong_time_opt, cong_time_ci_opt,\n",
    "                   ],\n",
    "                   axis=1).reset_index()\n",
    "groupers[2] = 'rate'\n",
    "new_df.columns = groupers + [\n",
    "                  'raw_eq', 'below_eq', 'above_eq', 'raw_simple', 'below_simple', 'above_simple',\n",
    "                  'raw_eq_rel', 'below_eq_rel', 'above_eq_rel', 'raw_simple_rel', 'below_simple_rel', 'above_simple_rel',#]\n",
    "                  'q_eq', 'q_ci_eq', 'q_simple', 'q_ci_simple', 'q_opt', 'q_ci_opt',\n",
    "                  'cr_eq', 'cr_ci_eq', 'cr_simple', 'cr_ci_simple', 'cr_opt', 'cr_ci_opt',\n",
    "                  'hcost_eq', 'hcost_ci_eq', 'hcost_simple', 'hcost_ci_simple', 'hcost_opt', 'hcost_ci_opt',\n",
    "                  'Ccost_eq', 'Ccost_ci_eq', 'Ccost_simple', 'Ccost_ci_simple', 'Ccost_opt', 'Ccost_ci_opt',\n",
    "                  'rcost_eq', 'rcost_ci_eq', 'rcost_simple', 'rcost_ci_simple', 'rcost_opt', 'rcost_ci_opt',\n",
    "                  'opt_mean', 'opt_ci', 'eq_mean', 'eq_ci', 'simple_mean', 'simple_ci',\n",
    "                  'p_eq', 'p_ci_eq', 'p_simple', 'p_ci_simple', 'p_opt', 'p_ci_opt',\n",
    "                  'p_time_eq', 'p_time_ci_eq', 'p_time_simple', 'p_time_ci_simple', 'p_time_opt', 'p_time_ci_opt',\n",
    "                  'cong_time_eq', 'cong_time_ci_eq', 'cong_time_simple', 'cong_time_ci_simple', 'cong_time_opt', 'cong_time_ci_opt'\n",
    "                 ]"
   ]
  },
  {
   "cell_type": "markdown",
   "metadata": {},
   "source": [
    "## Plotting\n",
    "Isolate the effect of each parameter: hold all others fixed (i.e. group by the other parameters, and then analyze each group separately), and plot against the parameter being varied."
   ]
  },
  {
   "cell_type": "code",
   "execution_count": 21,
   "metadata": {},
   "outputs": [],
   "source": [
    "grays = ['green', 'teal', 'blue', 'black']\n",
    "# grays = ['black']"
   ]
  },
  {
   "cell_type": "code",
   "execution_count": 22,
   "metadata": {},
   "outputs": [],
   "source": [
    "rates = sorted(new_df.rate.unique())\n",
    "scales = sorted(new_df.scale.unique())\n",
    "hs = sorted(new_df.h.unique())\n",
    "Ms = sorted(new_df.M.unique())\n",
    "inits = sorted(new_df.init.unique())\n",
    "\n",
    "fluctuations = sorted(new_df.fluctuation.unique())\n",
    "periods = sorted(new_df.period.unique())"
   ]
  },
  {
   "cell_type": "markdown",
   "metadata": {},
   "source": [
    "### Tradeoff"
   ]
  },
  {
   "cell_type": "code",
   "execution_count": 23,
   "metadata": {},
   "outputs": [
    {
     "ename": "FileNotFoundError",
     "evalue": "[Errno 2] No such file or directory: 'figs/frontier_(10, 60).pdf'",
     "output_type": "error",
     "traceback": [
      "\u001b[1;31m---------------------------------------------------------------------------\u001b[0m",
      "\u001b[1;31mFileNotFoundError\u001b[0m                         Traceback (most recent call last)",
      "\u001b[1;32m<ipython-input-23-c9f5114c3d9e>\u001b[0m in \u001b[0;36m<module>\u001b[1;34m\u001b[0m\n\u001b[0;32m     17\u001b[0m     \u001b[0mfig\u001b[0m\u001b[1;33m.\u001b[0m\u001b[0msubplots_adjust\u001b[0m\u001b[1;33m(\u001b[0m\u001b[0mleft\u001b[0m\u001b[1;33m=\u001b[0m\u001b[1;36m0.3\u001b[0m\u001b[1;33m)\u001b[0m\u001b[1;33m\u001b[0m\u001b[1;33m\u001b[0m\u001b[0m\n\u001b[0;32m     18\u001b[0m \u001b[1;33m\u001b[0m\u001b[0m\n\u001b[1;32m---> 19\u001b[1;33m     \u001b[0mplt\u001b[0m\u001b[1;33m.\u001b[0m\u001b[0msavefig\u001b[0m\u001b[1;33m(\u001b[0m\u001b[0moutdir\u001b[0m \u001b[1;33m+\u001b[0m \u001b[1;34m\"frontier_{}.pdf\"\u001b[0m\u001b[1;33m.\u001b[0m\u001b[0mformat\u001b[0m\u001b[1;33m(\u001b[0m\u001b[0minit\u001b[0m\u001b[1;33m)\u001b[0m\u001b[1;33m)\u001b[0m\u001b[1;31m#, bbox_inches='tight')\u001b[0m\u001b[1;33m\u001b[0m\u001b[1;33m\u001b[0m\u001b[0m\n\u001b[0m",
      "\u001b[1;32mC:\\ProgramData\\Anaconda3\\lib\\site-packages\\matplotlib\\pyplot.py\u001b[0m in \u001b[0;36msavefig\u001b[1;34m(*args, **kwargs)\u001b[0m\n\u001b[0;32m    720\u001b[0m \u001b[1;32mdef\u001b[0m \u001b[0msavefig\u001b[0m\u001b[1;33m(\u001b[0m\u001b[1;33m*\u001b[0m\u001b[0margs\u001b[0m\u001b[1;33m,\u001b[0m \u001b[1;33m**\u001b[0m\u001b[0mkwargs\u001b[0m\u001b[1;33m)\u001b[0m\u001b[1;33m:\u001b[0m\u001b[1;33m\u001b[0m\u001b[1;33m\u001b[0m\u001b[0m\n\u001b[0;32m    721\u001b[0m     \u001b[0mfig\u001b[0m \u001b[1;33m=\u001b[0m \u001b[0mgcf\u001b[0m\u001b[1;33m(\u001b[0m\u001b[1;33m)\u001b[0m\u001b[1;33m\u001b[0m\u001b[1;33m\u001b[0m\u001b[0m\n\u001b[1;32m--> 722\u001b[1;33m     \u001b[0mres\u001b[0m \u001b[1;33m=\u001b[0m \u001b[0mfig\u001b[0m\u001b[1;33m.\u001b[0m\u001b[0msavefig\u001b[0m\u001b[1;33m(\u001b[0m\u001b[1;33m*\u001b[0m\u001b[0margs\u001b[0m\u001b[1;33m,\u001b[0m \u001b[1;33m**\u001b[0m\u001b[0mkwargs\u001b[0m\u001b[1;33m)\u001b[0m\u001b[1;33m\u001b[0m\u001b[1;33m\u001b[0m\u001b[0m\n\u001b[0m\u001b[0;32m    723\u001b[0m     \u001b[0mfig\u001b[0m\u001b[1;33m.\u001b[0m\u001b[0mcanvas\u001b[0m\u001b[1;33m.\u001b[0m\u001b[0mdraw_idle\u001b[0m\u001b[1;33m(\u001b[0m\u001b[1;33m)\u001b[0m   \u001b[1;31m# need this if 'transparent=True' to reset colors\u001b[0m\u001b[1;33m\u001b[0m\u001b[1;33m\u001b[0m\u001b[0m\n\u001b[0;32m    724\u001b[0m     \u001b[1;32mreturn\u001b[0m \u001b[0mres\u001b[0m\u001b[1;33m\u001b[0m\u001b[1;33m\u001b[0m\u001b[0m\n",
      "\u001b[1;32mC:\\ProgramData\\Anaconda3\\lib\\site-packages\\matplotlib\\figure.py\u001b[0m in \u001b[0;36msavefig\u001b[1;34m(self, fname, transparent, **kwargs)\u001b[0m\n\u001b[0;32m   2178\u001b[0m             \u001b[0mself\u001b[0m\u001b[1;33m.\u001b[0m\u001b[0mpatch\u001b[0m\u001b[1;33m.\u001b[0m\u001b[0mset_visible\u001b[0m\u001b[1;33m(\u001b[0m\u001b[0mframeon\u001b[0m\u001b[1;33m)\u001b[0m\u001b[1;33m\u001b[0m\u001b[1;33m\u001b[0m\u001b[0m\n\u001b[0;32m   2179\u001b[0m \u001b[1;33m\u001b[0m\u001b[0m\n\u001b[1;32m-> 2180\u001b[1;33m         \u001b[0mself\u001b[0m\u001b[1;33m.\u001b[0m\u001b[0mcanvas\u001b[0m\u001b[1;33m.\u001b[0m\u001b[0mprint_figure\u001b[0m\u001b[1;33m(\u001b[0m\u001b[0mfname\u001b[0m\u001b[1;33m,\u001b[0m \u001b[1;33m**\u001b[0m\u001b[0mkwargs\u001b[0m\u001b[1;33m)\u001b[0m\u001b[1;33m\u001b[0m\u001b[1;33m\u001b[0m\u001b[0m\n\u001b[0m\u001b[0;32m   2181\u001b[0m \u001b[1;33m\u001b[0m\u001b[0m\n\u001b[0;32m   2182\u001b[0m         \u001b[1;32mif\u001b[0m \u001b[0mframeon\u001b[0m\u001b[1;33m:\u001b[0m\u001b[1;33m\u001b[0m\u001b[1;33m\u001b[0m\u001b[0m\n",
      "\u001b[1;32mC:\\ProgramData\\Anaconda3\\lib\\site-packages\\matplotlib\\backend_bases.py\u001b[0m in \u001b[0;36mprint_figure\u001b[1;34m(self, filename, dpi, facecolor, edgecolor, orientation, format, bbox_inches, **kwargs)\u001b[0m\n\u001b[0;32m   2080\u001b[0m                     \u001b[0morientation\u001b[0m\u001b[1;33m=\u001b[0m\u001b[0morientation\u001b[0m\u001b[1;33m,\u001b[0m\u001b[1;33m\u001b[0m\u001b[1;33m\u001b[0m\u001b[0m\n\u001b[0;32m   2081\u001b[0m                     \u001b[0mbbox_inches_restore\u001b[0m\u001b[1;33m=\u001b[0m\u001b[0m_bbox_inches_restore\u001b[0m\u001b[1;33m,\u001b[0m\u001b[1;33m\u001b[0m\u001b[1;33m\u001b[0m\u001b[0m\n\u001b[1;32m-> 2082\u001b[1;33m                     **kwargs)\n\u001b[0m\u001b[0;32m   2083\u001b[0m             \u001b[1;32mfinally\u001b[0m\u001b[1;33m:\u001b[0m\u001b[1;33m\u001b[0m\u001b[1;33m\u001b[0m\u001b[0m\n\u001b[0;32m   2084\u001b[0m                 \u001b[1;32mif\u001b[0m \u001b[0mbbox_inches\u001b[0m \u001b[1;32mand\u001b[0m \u001b[0mrestore_bbox\u001b[0m\u001b[1;33m:\u001b[0m\u001b[1;33m\u001b[0m\u001b[1;33m\u001b[0m\u001b[0m\n",
      "\u001b[1;32mC:\\ProgramData\\Anaconda3\\lib\\site-packages\\matplotlib\\backends\\backend_pdf.py\u001b[0m in \u001b[0;36mprint_pdf\u001b[1;34m(self, filename, dpi, bbox_inches_restore, metadata, **kwargs)\u001b[0m\n\u001b[0;32m   2494\u001b[0m             \u001b[0mfile\u001b[0m \u001b[1;33m=\u001b[0m \u001b[0mfilename\u001b[0m\u001b[1;33m.\u001b[0m\u001b[0m_file\u001b[0m\u001b[1;33m\u001b[0m\u001b[1;33m\u001b[0m\u001b[0m\n\u001b[0;32m   2495\u001b[0m         \u001b[1;32melse\u001b[0m\u001b[1;33m:\u001b[0m\u001b[1;33m\u001b[0m\u001b[1;33m\u001b[0m\u001b[0m\n\u001b[1;32m-> 2496\u001b[1;33m             \u001b[0mfile\u001b[0m \u001b[1;33m=\u001b[0m \u001b[0mPdfFile\u001b[0m\u001b[1;33m(\u001b[0m\u001b[0mfilename\u001b[0m\u001b[1;33m,\u001b[0m \u001b[0mmetadata\u001b[0m\u001b[1;33m=\u001b[0m\u001b[0mmetadata\u001b[0m\u001b[1;33m)\u001b[0m\u001b[1;33m\u001b[0m\u001b[1;33m\u001b[0m\u001b[0m\n\u001b[0m\u001b[0;32m   2497\u001b[0m         \u001b[1;32mtry\u001b[0m\u001b[1;33m:\u001b[0m\u001b[1;33m\u001b[0m\u001b[1;33m\u001b[0m\u001b[0m\n\u001b[0;32m   2498\u001b[0m             \u001b[0mfile\u001b[0m\u001b[1;33m.\u001b[0m\u001b[0mnewPage\u001b[0m\u001b[1;33m(\u001b[0m\u001b[0mwidth\u001b[0m\u001b[1;33m,\u001b[0m \u001b[0mheight\u001b[0m\u001b[1;33m)\u001b[0m\u001b[1;33m\u001b[0m\u001b[1;33m\u001b[0m\u001b[0m\n",
      "\u001b[1;32mC:\\ProgramData\\Anaconda3\\lib\\site-packages\\matplotlib\\backends\\backend_pdf.py\u001b[0m in \u001b[0;36m__init__\u001b[1;34m(self, filename, metadata)\u001b[0m\n\u001b[0;32m    430\u001b[0m         \u001b[0mself\u001b[0m\u001b[1;33m.\u001b[0m\u001b[0moriginal_file_like\u001b[0m \u001b[1;33m=\u001b[0m \u001b[1;32mNone\u001b[0m\u001b[1;33m\u001b[0m\u001b[1;33m\u001b[0m\u001b[0m\n\u001b[0;32m    431\u001b[0m         \u001b[0mself\u001b[0m\u001b[1;33m.\u001b[0m\u001b[0mtell_base\u001b[0m \u001b[1;33m=\u001b[0m \u001b[1;36m0\u001b[0m\u001b[1;33m\u001b[0m\u001b[1;33m\u001b[0m\u001b[0m\n\u001b[1;32m--> 432\u001b[1;33m         \u001b[0mfh\u001b[0m\u001b[1;33m,\u001b[0m \u001b[0mopened\u001b[0m \u001b[1;33m=\u001b[0m \u001b[0mcbook\u001b[0m\u001b[1;33m.\u001b[0m\u001b[0mto_filehandle\u001b[0m\u001b[1;33m(\u001b[0m\u001b[0mfilename\u001b[0m\u001b[1;33m,\u001b[0m \u001b[1;34m\"wb\"\u001b[0m\u001b[1;33m,\u001b[0m \u001b[0mreturn_opened\u001b[0m\u001b[1;33m=\u001b[0m\u001b[1;32mTrue\u001b[0m\u001b[1;33m)\u001b[0m\u001b[1;33m\u001b[0m\u001b[1;33m\u001b[0m\u001b[0m\n\u001b[0m\u001b[0;32m    433\u001b[0m         \u001b[1;32mif\u001b[0m \u001b[1;32mnot\u001b[0m \u001b[0mopened\u001b[0m\u001b[1;33m:\u001b[0m\u001b[1;33m\u001b[0m\u001b[1;33m\u001b[0m\u001b[0m\n\u001b[0;32m    434\u001b[0m             \u001b[1;32mtry\u001b[0m\u001b[1;33m:\u001b[0m\u001b[1;33m\u001b[0m\u001b[1;33m\u001b[0m\u001b[0m\n",
      "\u001b[1;32mC:\\ProgramData\\Anaconda3\\lib\\site-packages\\matplotlib\\cbook\\__init__.py\u001b[0m in \u001b[0;36mto_filehandle\u001b[1;34m(fname, flag, return_opened, encoding)\u001b[0m\n\u001b[0;32m    430\u001b[0m             \u001b[0mfh\u001b[0m \u001b[1;33m=\u001b[0m \u001b[0mbz2\u001b[0m\u001b[1;33m.\u001b[0m\u001b[0mBZ2File\u001b[0m\u001b[1;33m(\u001b[0m\u001b[0mfname\u001b[0m\u001b[1;33m,\u001b[0m \u001b[0mflag\u001b[0m\u001b[1;33m)\u001b[0m\u001b[1;33m\u001b[0m\u001b[1;33m\u001b[0m\u001b[0m\n\u001b[0;32m    431\u001b[0m         \u001b[1;32melse\u001b[0m\u001b[1;33m:\u001b[0m\u001b[1;33m\u001b[0m\u001b[1;33m\u001b[0m\u001b[0m\n\u001b[1;32m--> 432\u001b[1;33m             \u001b[0mfh\u001b[0m \u001b[1;33m=\u001b[0m \u001b[0mopen\u001b[0m\u001b[1;33m(\u001b[0m\u001b[0mfname\u001b[0m\u001b[1;33m,\u001b[0m \u001b[0mflag\u001b[0m\u001b[1;33m,\u001b[0m \u001b[0mencoding\u001b[0m\u001b[1;33m=\u001b[0m\u001b[0mencoding\u001b[0m\u001b[1;33m)\u001b[0m\u001b[1;33m\u001b[0m\u001b[1;33m\u001b[0m\u001b[0m\n\u001b[0m\u001b[0;32m    433\u001b[0m         \u001b[0mopened\u001b[0m \u001b[1;33m=\u001b[0m \u001b[1;32mTrue\u001b[0m\u001b[1;33m\u001b[0m\u001b[1;33m\u001b[0m\u001b[0m\n\u001b[0;32m    434\u001b[0m     \u001b[1;32melif\u001b[0m \u001b[0mhasattr\u001b[0m\u001b[1;33m(\u001b[0m\u001b[0mfname\u001b[0m\u001b[1;33m,\u001b[0m \u001b[1;34m'seek'\u001b[0m\u001b[1;33m)\u001b[0m\u001b[1;33m:\u001b[0m\u001b[1;33m\u001b[0m\u001b[1;33m\u001b[0m\u001b[0m\n",
      "\u001b[1;31mFileNotFoundError\u001b[0m: [Errno 2] No such file or directory: 'figs/frontier_(10, 60).pdf'"
     ]
    },
    {
     "data": {
      "image/png": "[encoded data removed]",
      "text/plain": [
       "<Figure size 180x288 with 1 Axes>"
      ]
     },
     "metadata": {
      "needs_background": "light"
     },
     "output_type": "display_data"
    }
   ],
   "source": [
    "for init in inits:\n",
    "    fig, ax = plt.subplots()\n",
    "    subset = new_df[(new_df['init'] == init)].sort_values(by='h')\n",
    "    ax.errorbar(subset.cr_opt, subset.q_opt, xerr=subset.cr_ci_opt, yerr=subset.q_ci_opt, capsize=2, color='grey')\n",
    "    ax.set_title(init)\n",
    "    ax.set_xlabel(\"Average Daily Direct Cost\")\n",
    "    ax.set_ylabel(r\"Average Queue Length $(x-N)^+$\")\n",
    "    \n",
    "    ax.errorbar(subset.cr_eq.mean(), subset.q_eq.mean(),\n",
    "                xerr=subset.cr_ci_eq.mean()/np.sqrt(5), yerr=subset.q_ci_eq.mean()/np.sqrt(5),\n",
    "               marker='*', color='black', markersize=10)\n",
    "    ax.errorbar(subset.cr_simple.mean(), subset.q_simple.mean(),\n",
    "                xerr=subset.cr_ci_simple.mean()/np.sqrt(5), yerr=subset.q_ci_simple.mean()/np.sqrt(5),\n",
    "               marker='^', color='black', markersize=8)\n",
    "    \n",
    "    fig.set_figwidth(2.5)\n",
    "    fig.subplots_adjust(left=0.3)\n",
    "    \n",
    "    plt.savefig(outdir + \"frontier_{}.pdf\".format(init))#, bbox_inches='tight')"
   ]
  },
  {
   "cell_type": "markdown",
   "metadata": {},
   "source": [
    "### Queue Length"
   ]
  },
  {
   "cell_type": "code",
   "execution_count": null,
   "metadata": {},
   "outputs": [],
   "source": [
    "fig, ax = plt.subplots()\n",
    "\n",
    "for i, init in enumerate(inits):\n",
    "    \n",
    "    subset = new_df[(new_df['init'] == init)].sort_values(by='h')\n",
    "    \n",
    "    ax.errorbar(subset['h'], subset.p_eq, yerr=subset.p_ci_eq,\n",
    "                capsize=2, linestyle=\":\", label=\"Equilibrium\", color=grays[i])\n",
    "\n",
    "    ax.errorbar(subset['h'], subset.p_simple, yerr=subset.p_ci_simple,\n",
    "                capsize=2, linestyle=\"--\", label=\"Simple\", color=grays[i])\n",
    "\n",
    "    ax.errorbar(subset['h'], subset.p_opt, yerr=subset.p_ci_opt,\n",
    "                capsize=2, label=\"Fluid\", color=grays[i])\n",
    "\n",
    "    ax.set_ylabel(\"Average return probability ($p$)\")\n",
    "    ax.set_xlabel(r\"Holding cost ($h$)\")\n",
    "\n",
    "    fig.set_figheight(3)\n",
    "    fig.set_figwidth(5)\n",
    "\n",
    "# plt.savefig(outdir + \"q.pdf\", bbox_inches='tight')"
   ]
  },
  {
   "cell_type": "code",
   "execution_count": null,
   "metadata": {
    "scrolled": false
   },
   "outputs": [],
   "source": [
    "for i, init in enumerate(inits):\n",
    "    fig, ax1 = plt.subplots()\n",
    "    ax2 = ax1.twinx()\n",
    "    \n",
    "    subset = new_df[(new_df['init'] == init)].sort_values(by='h')\n",
    "    \n",
    "    ax1.errorbar(subset['h'], subset.q_eq, yerr=subset.q_ci_eq,\n",
    "                capsize=2, linestyle=\":\", label=\"Equil.\", color=grays[-1])\n",
    "    ax1.errorbar(subset['h'], subset.q_simple, yerr=subset.q_ci_simple,\n",
    "                capsize=2, linestyle=\"--\", label=\"Simple\", color=grays[-1])\n",
    "    ax1.errorbar(subset['h'], subset.q_opt, yerr=subset.q_ci_opt,\n",
    "                capsize=2, label=\"Fluid\", color=grays[-1])\n",
    "    \n",
    "    ax2.errorbar(subset['h'], subset.cr_eq, yerr=subset.cr_ci_eq,\n",
    "                capsize=2, linestyle=\":\", label=\"Equil.\", color=grays[0])\n",
    "    ax2.errorbar(subset['h'], subset.cr_simple, yerr=subset.cr_ci_simple,\n",
    "                capsize=2, linestyle=\"--\", label=\"Simple\", color=grays[0])\n",
    "    ax2.errorbar(subset['h'], subset.cr_opt, yerr=subset.cr_ci_opt,\n",
    "                capsize=2, label=\"Fluid\", color=grays[0])\n",
    "\n",
    "    print(subset.cr_opt, subset.cr_ci_opt)\n",
    "    \n",
    "    ax1.set_ylabel(r\"Average queue length $(X-N)^+$\")\n",
    "    # ax2.set_ylabel(r\"Daily average int. + re-admit. cost\")\n",
    "    ax2.set_ylabel(r\"Daily average direct cost\")\n",
    "    ax1.set_xlabel(r\"Holding cost ($h$)\")\n",
    "    if i == 2:\n",
    "        ax1.legend()\n",
    "    \n",
    "    ax1.axhline(0, linestyle=':')\n",
    "\n",
    "    fig.set_figwidth(2.5)\n",
    "    plt.gcf().subplots_adjust(bottom=0.2)\n",
    "    plt.gcf().subplots_adjust(left=0.2)\n",
    "    plt.gcf().subplots_adjust(right=0.7)\n",
    "\n",
    "    plt.savefig(outdir + \"tradeoff_{}.pdf\".format(init))#, bbox_inches='tight')"
   ]
  },
  {
   "cell_type": "code",
   "execution_count": null,
   "metadata": {},
   "outputs": [],
   "source": [
    "for i, init in enumerate(inits):\n",
    "    fig, ax = plt.subplots()\n",
    "    \n",
    "    subset = new_df[(new_df['init'] == init)].sort_values(by='h')\n",
    "    \n",
    "    ax.errorbar(subset['h'], subset.q_eq, yerr=subset.q_ci_eq,\n",
    "                capsize=2, linestyle=\":\", label=\"Equil.\", color=grays[-1])\n",
    "\n",
    "    ax.errorbar(subset['h'], subset.q_simple, yerr=subset.q_ci_simple,\n",
    "                capsize=2, linestyle=\"--\", label=\"Simple\", color=grays[-1])\n",
    "\n",
    "    ax.errorbar(subset['h'], subset.q_opt, yerr=subset.q_ci_opt,\n",
    "                capsize=2, label=\"Fluid\", color=grays[-1])\n",
    "    \n",
    "    print(subset.q_eq)\n",
    "    print(subset.q_opt)\n",
    "\n",
    "    ax.set_ylabel(r\"Average queue length $(X-N)^+$\")\n",
    "    ax.set_xlabel(r\"Holding cost ($h$)\")\n",
    "    if i == 3:\n",
    "        ax.legend()\n",
    "    \n",
    "    ax.axhline(0, linestyle=':')\n",
    "\n",
    "    fig.set_figheight(2.5)\n",
    "    fig.set_figwidth(2)\n",
    "    plt.gcf().subplots_adjust(bottom=0.2)\n",
    "    plt.gcf().subplots_adjust(left=0.35)\n",
    "\n",
    "\n",
    "    plt.savefig(outdir + \"q_{}.pdf\".format(init))#, bbox_inches='tight')"
   ]
  },
  {
   "cell_type": "markdown",
   "metadata": {},
   "source": [
    "## Performance Plot"
   ]
  },
  {
   "cell_type": "markdown",
   "metadata": {},
   "source": [
    "### Line styles:\n",
    "- Solid: fluid policy vs equilibrium policy\n",
    "- Dot/dash: fluid safety policy vs equilbirium policy\n",
    "- Dash: fluid policy vs simple policy\n",
    "- Dot: fluid safety policy vs simple policy"
   ]
  },
  {
   "cell_type": "code",
   "execution_count": null,
   "metadata": {},
   "outputs": [],
   "source": [
    "new_df[new_df.init == 'Long-run'][['raw_eq_rel', 'raw_simple_rel']]"
   ]
  },
  {
   "cell_type": "code",
   "execution_count": null,
   "metadata": {
    "scrolled": false
   },
   "outputs": [],
   "source": [
    "# Plot separately, for export\n",
    "\n",
    "xlabel = r\"Holding cost ($h$)\"\n",
    "xvar = \"h\"\n",
    "\n",
    "ylabels = {\n",
    "    'eq_rel' : \"Relative cost savings (%)\",\n",
    "    'simple_rel' : \"Relative cost savings (%)\",\n",
    "    'eq' : \"Daily average cost savings\",\n",
    "    'simple' : \"Daily average cost savings\"\n",
    "}\n",
    "ylims = {\n",
    "    var_name : [(new_df['raw_{}'.format(var_name)] - 2*new_df['below_{}'.format(var_name)]).min(),\n",
    "              (new_df['raw_{}'.format(var_name)] + 2*new_df['above_{}'.format(var_name)]).max()] \\\n",
    "    for var_name in ylabels\n",
    "}\n",
    "\n",
    "\n",
    "def save_errorbars(data, var_name, fig_name, legend=False):\n",
    "    \n",
    "    fig, ax = plt.subplots()\n",
    "    for j, init in enumerate(inits):\n",
    "        subset = data[data.init == init].sort_values(by=xvar)\n",
    "        ax.errorbar(subset[xvar], subset['raw_{}'.format(var_name)],\n",
    "                    yerr=[subset['below_{}'.format(var_name)], subset['above_{}'.format(var_name)]],\n",
    "                   capsize=2,\n",
    "                   color=grays[j],\n",
    "                   label=init)\n",
    "        plt.ylim(ylims[var_name])\n",
    "        ax.axhline(0, linewidth=1, linestyle='dotted')\n",
    "        ax.set_xlabel(xlabel)\n",
    "        ax.set_ylabel(ylabels[var_name])\n",
    "        \n",
    "        if legend:\n",
    "            ax.legend()\n",
    "            \n",
    "        fig.set_figheight(2.5)\n",
    "        fig.set_figwidth(4)\n",
    "            \n",
    "        plt.savefig(outdir + 'case_{}_{}.pdf'.format(var_name, fig_name), bbox_inches='tight')\n",
    "\n",
    "for i, val in enumerate(Ms):\n",
    "    fig_name = 'cost_{}'.format(val)\n",
    "    bigset = new_df\n",
    "    save_errorbars(bigset, 'eq_rel', fig_name, False)\n",
    "    save_errorbars(bigset, 'simple_rel', fig_name, True)\n",
    "    save_errorbars(bigset, 'eq', fig_name, True)\n",
    "    save_errorbars(bigset, 'simple', fig_name)"
   ]
  },
  {
   "cell_type": "code",
   "execution_count": null,
   "metadata": {},
   "outputs": [],
   "source": [
    "flat = grouped.mean().reset_index()\n",
    "for i, init in enumerate(inits):\n",
    "    tmp = flat[flat.init == init].sort_values(by='h')\n",
    "    plt.plot(tmp.h, tmp['total_cost']/tmp.run_length, color=grays[i])\n",
    "    plt.plot(tmp.h, tmp['total_cost.1']/tmp.run_length, linestyle=':', color=grays[i])\n",
    "    plt.plot(tmp.h, tmp['total_cost.2']/tmp.run_length, linestyle='--', color=grays[i])"
   ]
  },
  {
   "cell_type": "code",
   "execution_count": null,
   "metadata": {
    "scrolled": true
   },
   "outputs": [],
   "source": [
    "# Plot all together, for Python interpretation\n",
    "fig, axes = plt.subplots(1, len(Ms), sharey=True)\n",
    "for i, M in enumerate(Ms):\n",
    "    ax = axes[i]\n",
    "    for j, init in enumerate(inits):\n",
    "        subset = new_df[(new_df.M == M) & (new_df.init==init)].sort_values(by='h')\n",
    "        ax.errorbar(subset.h, subset.raw_eq_rel, yerr=[subset.below_eq_rel, subset.above_eq_rel],\n",
    "                    capsize=2,\n",
    "                    color=grays[j],\n",
    "                    label=init)\n",
    "    ax.axhline(0, linewidth=1, linestyle='dotted')\n",
    "    ax.set_xlabel(r\"Holding cost ($h$)\")\n",
    "    ax.set_ylabel(\"Relative cost savings (%)\")\n",
    "    ax.title.set_text(r\"$M$={}\".format(M))\n",
    "    if i == 0:\n",
    "        ax.legend()\n",
    "\n",
    "    \n",
    "fig.set_figheight(2.5)\n",
    "fig.set_figwidth(10)"
   ]
  },
  {
   "cell_type": "code",
   "execution_count": null,
   "metadata": {},
   "outputs": [],
   "source": [
    "## Plot all together, for Python interpretation\n",
    "fig, axes = plt.subplots(1, len(Ms), sharey=True)\n",
    "for i, M in enumerate(Ms):\n",
    "    ax = axes[i]\n",
    "    for j, init in enumerate(inits):\n",
    "        subset = new_df[(new_df.M == M) & (new_df.init==init)].sort_values(by='h')\n",
    "        ax.errorbar(subset.h, subset.raw_simple_rel, yerr=[subset.below_simple_rel, subset.above_simple_rel],\n",
    "                    capsize=2,\n",
    "                    color=grays[j],\n",
    "                    label=init)\n",
    "    ax.axhline(0, linewidth=1, linestyle='dotted')\n",
    "    ax.set_xlabel(r\"Holding cost ($h$)\")\n",
    "    ax.set_ylabel(\"Relative cost savings (%)\")\n",
    "    ax.title.set_text(r\"$M$={}\".format(M))\n",
    "    if i == 0:\n",
    "        ax.legend()\n",
    "\n",
    "    \n",
    "fig.set_figheight(2.5)\n",
    "fig.set_figwidth(10)"
   ]
  }
 ],
 "metadata": {
  "kernelspec": {
   "display_name": "Python 3",
   "language": "python",
   "name": "python3"
  }
 },
 "nbformat": 4,
 "nbformat_minor": 4
}
